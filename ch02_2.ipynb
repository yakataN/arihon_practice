{
 "metadata": {
  "language_info": {
   "codemirror_mode": {
    "name": "ipython",
    "version": 3
   },
   "file_extension": ".py",
   "mimetype": "text/x-python",
   "name": "python",
   "nbconvert_exporter": "python",
   "pygments_lexer": "ipython3",
   "version": "3.8.5-final"
  },
  "orig_nbformat": 2,
  "kernelspec": {
   "name": "Python 3.8.5 64-bit",
   "display_name": "Python 3.8.5 64-bit",
   "metadata": {
    "interpreter": {
     "hash": "31f2aee4e71d21fbe5cf8b01ff0e069b9275f58929596ceb00d14d90e3e16cd6"
    }
   }
  }
 },
 "nbformat": 4,
 "nbformat_minor": 2,
 "cells": [
  {
   "cell_type": "code",
   "execution_count": 1,
   "metadata": {},
   "outputs": [
    {
     "output_type": "stream",
     "name": "stdout",
     "text": [
      "hello jupyter\n"
     ]
    }
   ],
   "source": [
    "import re\n",
    "import sys, os\n",
    "print(\"hello jupyter\")"
   ]
  },
  {
   "source": [
    "# 2章 基礎からスタート初級編"
   ],
   "cell_type": "markdown",
   "metadata": {}
  },
  {
   "source": [
    "## 2-2 貪欲法\n",
    "\n",
    "目標は黄色になること\n",
    "今回は本気だから。"
   ],
   "cell_type": "markdown",
   "metadata": {}
  },
  {
   "source": [
    "CPPのコード共有したい場合はbatcatで表示する"
   ],
   "cell_type": "markdown",
   "metadata": {}
  },
  {
   "cell_type": "code",
   "execution_count": 1,
   "metadata": {},
   "outputs": [
    {
     "output_type": "stream",
     "name": "stdout",
     "text": [
      "['01_problem_p42.cpp', '02_problem_p43.cpp', '03_problem_p45.cpp', '04_problem_p47.cpp', '05_problem_p49.cpp']\n"
     ]
    }
   ],
   "source": [
    "folder_name = \"ch02_2/\"\n",
    "files = !ls ./$folder_name\n",
    "cpps = [i for i in files if i[len(i)-3:]=='cpp']\n",
    "inputs = [i for i in files if i[len(i)-5:]=='input']\n",
    "print(cpps)"
   ]
  },
  {
   "cell_type": "code",
   "execution_count": 25,
   "metadata": {
    "tags": []
   },
   "outputs": [],
   "source": [
    "def matome(index, input_size = None):\n",
    "    import colorama\n",
    "    from colorama import Fore, Style\n",
    "    file_name = cpps[index-1]\n",
    "    core = folder_name + file_name[:-4]\n",
    "    cpp = core + \".cpp\"\n",
    "    out = core + \".out\"\n",
    "    !g++ $cpp -o $out\n",
    "    !batcat $cpp\n",
    "    if (input_size==None):\n",
    "        result = !./$out\n",
    "        output = core + \".output\"\n",
    "        if (result==output):\n",
    "            print(f\"{Fore.GREEN}sample1: AC{Style.RESET_ALL}\")\n",
    "        else:\n",
    "            print(f\"{Fore.RED}sample1: WA{Style.RESET_ALL}\")\n",
    "            print(\"====================\")\n",
    "            print(\"expected output\")\n",
    "            !./cat $output\n",
    "            print()\n",
    "            print(\"result\")\n",
    "            !./$out | nl -w2 -nrz -s\": \"\n",
    "            print(\"====================\")\n",
    "    else:\n",
    "        ac_cnt = 0\n",
    "        for i in range(input_size):\n",
    "            input_file = \"./\" + core + \"_\" + str(i+1) + \".input\"\n",
    "            output_file = \"./\" + core + \"_\" + str(i+1) + \".output\"\n",
    "            result = !./$out < $input_file\n",
    "            output = !cat $output_file\n",
    "            if (result == output):\n",
    "                ac_cnt += 1\n",
    "                print(f\"{Fore.GREEN}sample1: AC{Style.RESET_ALL}\")\n",
    "            else:\n",
    "                print(f\"{Fore.RED}sample1: WA{Style.RESET_ALL}\")\n",
    "                print(\"====================\")\n",
    "                print(\"expected output\")\n",
    "                !./cat $output\n",
    "                print()\n",
    "                print(\"result\")\n",
    "                !./$out | nl -w2 -nrz -s\": \"\n",
    "                print(\"====================\")\n",
    "        if (input_size==ac_cnt):\n",
    "            print(f\"{Fore.GREEN}AC: {ac_cnt}/{input_size}{Style.RESET_ALL}\")\n",
    "        else:\n",
    "            print(f\"{Fore.RED}AC: {ac_cnt}/{input_size}{Style.RESET_ALL}\")\n"
   ]
  },
  {
   "cell_type": "code",
   "execution_count": 26,
   "metadata": {},
   "outputs": [
    {
     "output_type": "stream",
     "name": "stdout",
     "text": [
      "\u001b[38;5;238m───────┬────────────────────────────────────────────────────────────────────────\u001b[0m\n",
      "       \u001b[38;5;238m│ \u001b[0mFile: \u001b[1mch02_2/01_problem_p42.cpp\u001b[0m\n",
      "\u001b[38;5;238m───────┼────────────────────────────────────────────────────────────────────────\u001b[0m\n",
      "\u001b[38;5;238m   1\u001b[0m   \u001b[38;5;238m│\u001b[0m \u001b[38;5;203m#include\u001b[0m\u001b[38;5;141m \u001b[0m\u001b[38;5;186m<\u001b[0m\u001b[38;5;186mbits/stdc++.h\u001b[0m\u001b[38;5;186m>\u001b[0m\n",
      "\u001b[38;5;238m   2\u001b[0m   \u001b[38;5;238m│\u001b[0m \u001b[38;5;203musing\u001b[0m\u001b[38;5;231m \u001b[0m\u001b[38;5;203mnamespace\u001b[0m\u001b[38;5;231m std\u001b[0m\u001b[38;5;231m;\u001b[0m\n",
      "\u001b[38;5;238m   3\u001b[0m   \u001b[38;5;238m│\u001b[0m \u001b[38;5;81mtypedef\u001b[0m\u001b[38;5;231m \u001b[0m\u001b[38;5;81mlong\u001b[0m\u001b[38;5;231m \u001b[0m\u001b[38;5;81mlong\u001b[0m\u001b[38;5;231m \u001b[0m\u001b[38;5;149mll\u001b[0m\u001b[38;5;231m;\u001b[0m\n",
      "\u001b[38;5;238m   4\u001b[0m   \u001b[38;5;238m│\u001b[0m \u001b[38;5;81mtypedef\u001b[0m\u001b[38;5;231m pair\u001b[0m\u001b[38;5;231m<\u001b[0m\u001b[38;5;231mll\u001b[0m\u001b[38;5;231m,\u001b[0m\u001b[38;5;231m ll\u001b[0m\u001b[38;5;231m>\u001b[0m\u001b[38;5;231m \u001b[0m\u001b[38;5;149mlpair\u001b[0m\u001b[38;5;231m;\u001b[0m\n",
      "\u001b[38;5;238m   5\u001b[0m   \u001b[38;5;238m│\u001b[0m \u001b[38;5;203mconst\u001b[0m\u001b[38;5;231m ll MOD \u001b[0m\u001b[38;5;203m=\u001b[0m\u001b[38;5;231m \u001b[0m\u001b[38;5;141m1e9\u001b[0m\u001b[38;5;231m \u001b[0m\u001b[38;5;203m+\u001b[0m\u001b[38;5;231m \u001b[0m\u001b[38;5;141m7\u001b[0m\u001b[38;5;231m;\u001b[0m\n",
      "\u001b[38;5;238m   6\u001b[0m   \u001b[38;5;238m│\u001b[0m \u001b[38;5;203mconst\u001b[0m\u001b[38;5;231m ll INF \u001b[0m\u001b[38;5;203m=\u001b[0m\u001b[38;5;231m \u001b[0m\u001b[38;5;141m1e18\u001b[0m\u001b[38;5;231m;\u001b[0m\n",
      "\u001b[38;5;238m   7\u001b[0m   \u001b[38;5;238m│\u001b[0m \u001b[38;5;203m#define\u001b[0m\u001b[38;5;141m \u001b[0m\u001b[38;5;149mREP\u001b[0m\u001b[38;5;141m(\u001b[0m\u001b[38;5;208mi\u001b[0m\u001b[38;5;141m,\u001b[0m\u001b[38;5;208mm\u001b[0m\u001b[38;5;141m,\u001b[0m\u001b[38;5;208mn\u001b[0m\u001b[38;5;141m)\u001b[0m\u001b[38;5;141m \u001b[0m\u001b[38;5;203mfor\u001b[0m\u001b[38;5;141m(\u001b[0m\u001b[38;5;141mll i \u001b[0m\u001b[38;5;203m=\u001b[0m\u001b[38;5;141m \u001b[0m\u001b[38;5;141m(\u001b[0m\u001b[38;5;141mm\u001b[0m\u001b[38;5;141m)\u001b[0m\u001b[38;5;141m;\u001b[0m\u001b[38;5;141m i \u001b[0m\u001b[38;5;203m<\u001b[0m\u001b[38;5;141m \u001b[0m\u001b[38;5;141m(\u001b[0m\u001b[38;5;141mll\u001b[0m\u001b[38;5;141m)\u001b[0m\u001b[38;5;141m(\u001b[0m\u001b[38;5;141mn\u001b[0m\u001b[38;5;141m)\u001b[0m\u001b[38;5;141m;\u001b[0m\u001b[38;5;141m i\u001b[0m\u001b[38;5;203m++\u001b[0m\u001b[38;5;141m)\u001b[0m\n",
      "\u001b[38;5;238m   8\u001b[0m   \u001b[38;5;238m│\u001b[0m \u001b[38;5;203m#define\u001b[0m\u001b[38;5;141m \u001b[0m\u001b[38;5;149mrep\u001b[0m\u001b[38;5;141m(\u001b[0m\u001b[38;5;208mi\u001b[0m\u001b[38;5;141m,\u001b[0m\u001b[38;5;208mn\u001b[0m\u001b[38;5;141m)\u001b[0m\u001b[38;5;141m \u001b[0m\u001b[38;5;141mREP\u001b[0m\u001b[38;5;141m(\u001b[0m\u001b[38;5;141mi\u001b[0m\u001b[38;5;141m,\u001b[0m\u001b[38;5;141m \u001b[0m\u001b[38;5;141m0\u001b[0m\u001b[38;5;141m,\u001b[0m\u001b[38;5;141m n\u001b[0m\u001b[38;5;141m)\u001b[0m\n",
      "\u001b[38;5;238m   9\u001b[0m   \u001b[38;5;238m│\u001b[0m \u001b[38;5;203m#define\u001b[0m\u001b[38;5;141m \u001b[0m\u001b[38;5;149mrrep\u001b[0m\u001b[38;5;141m(\u001b[0m\u001b[38;5;208mi\u001b[0m\u001b[38;5;141m,\u001b[0m\u001b[38;5;208mn\u001b[0m\u001b[38;5;141m)\u001b[0m\u001b[38;5;141m \u001b[0m\u001b[38;5;141mREP\u001b[0m\u001b[38;5;141m(\u001b[0m\u001b[38;5;141mi\u001b[0m\u001b[38;5;141m,\u001b[0m\u001b[38;5;141m1\u001b[0m\u001b[38;5;141m,\u001b[0m\u001b[38;5;141mn\u001b[0m\u001b[38;5;203m+\u001b[0m\u001b[38;5;141m1\u001b[0m\u001b[38;5;141m)\u001b[0m\n",
      "\u001b[38;5;238m  10\u001b[0m   \u001b[38;5;238m│\u001b[0m \u001b[38;5;203m#define\u001b[0m\u001b[38;5;141m \u001b[0m\u001b[38;5;149mprint\u001b[0m\u001b[38;5;141m(\u001b[0m\u001b[38;5;208mx\u001b[0m\u001b[38;5;141m)\u001b[0m\u001b[38;5;141m cout \u001b[0m\u001b[38;5;203m<<\u001b[0m\u001b[38;5;141m \u001b[0m\u001b[38;5;141m(\u001b[0m\u001b[38;5;141mx\u001b[0m\u001b[38;5;141m)\u001b[0m\u001b[38;5;141m \u001b[0m\u001b[38;5;203m<<\u001b[0m\u001b[38;5;141m endl\u001b[0m\u001b[38;5;141m;\u001b[0m\n",
      "\u001b[38;5;238m  11\u001b[0m   \u001b[38;5;238m│\u001b[0m \n",
      "\u001b[38;5;238m  12\u001b[0m   \u001b[38;5;238m│\u001b[0m \u001b[38;5;203mconst\u001b[0m\u001b[38;5;231m \u001b[0m\u001b[38;5;81mint\u001b[0m\u001b[38;5;231m max_n \u001b[0m\u001b[38;5;203m=\u001b[0m\u001b[38;5;231m \u001b[0m\u001b[38;5;141m110\u001b[0m\u001b[38;5;231m;\u001b[0m\n",
      "\u001b[38;5;238m  13\u001b[0m   \u001b[38;5;238m│\u001b[0m \u001b[38;5;203mconst\u001b[0m\u001b[38;5;231m \u001b[0m\u001b[38;5;81mint\u001b[0m\u001b[38;5;231m max_w \u001b[0m\u001b[38;5;203m=\u001b[0m\u001b[38;5;231m \u001b[0m\u001b[38;5;141m10010\u001b[0m\u001b[38;5;231m;\u001b[0m\n",
      "\u001b[38;5;238m  14\u001b[0m   \u001b[38;5;238m│\u001b[0m \u001b[38;5;81mint\u001b[0m\u001b[38;5;231m N\u001b[0m\u001b[38;5;231m,\u001b[0m\u001b[38;5;231m W\u001b[0m\u001b[38;5;231m;\u001b[0m\n",
      "\u001b[38;5;238m  15\u001b[0m   \u001b[38;5;238m│\u001b[0m \u001b[38;5;242m//\u001b[0m\u001b[38;5;242m dp[i][j]:= i番目まで見て、残りのweightがjある時の価値の最大\u001b[0m\n",
      "\u001b[38;5;238m  16\u001b[0m   \u001b[38;5;238m│\u001b[0m \u001b[38;5;81mint\u001b[0m\u001b[38;5;231m dp\u001b[0m\u001b[38;5;231m[\u001b[0m\u001b[38;5;231mmax_n\u001b[0m\u001b[38;5;231m]\u001b[0m\u001b[38;5;231m[\u001b[0m\u001b[38;5;231mmax_w\u001b[0m\u001b[38;5;231m]\u001b[0m\u001b[38;5;231m;\u001b[0m\n",
      "\u001b[38;5;238m  17\u001b[0m   \u001b[38;5;238m│\u001b[0m \u001b[38;5;81mint\u001b[0m\u001b[38;5;231m w\u001b[0m\u001b[38;5;231m[\u001b[0m\u001b[38;5;231mmax_n\u001b[0m\u001b[38;5;231m]\u001b[0m\u001b[38;5;231m,\u001b[0m\u001b[38;5;231m v\u001b[0m\u001b[38;5;231m[\u001b[0m\u001b[38;5;231mmax_n\u001b[0m\u001b[38;5;231m]\u001b[0m\u001b[38;5;231m;\u001b[0m\n",
      "\u001b[38;5;238m  18\u001b[0m   \u001b[38;5;238m│\u001b[0m \n",
      "\u001b[38;5;238m  19\u001b[0m   \u001b[38;5;238m│\u001b[0m \u001b[38;5;81mint\u001b[0m\u001b[38;5;231m \u001b[0m\u001b[38;5;149mrec\u001b[0m\u001b[38;5;231m(\u001b[0m\u001b[38;5;81mint\u001b[0m\u001b[38;5;231m \u001b[0m\u001b[38;5;208mi\u001b[0m\u001b[38;5;231m,\u001b[0m\u001b[38;5;231m \u001b[0m\u001b[38;5;81mint\u001b[0m\u001b[38;5;231m \u001b[0m\u001b[38;5;208mj\u001b[0m\u001b[38;5;231m)\u001b[0m\n",
      "\u001b[38;5;238m  20\u001b[0m   \u001b[38;5;238m│\u001b[0m \u001b[38;5;231m{\u001b[0m\n",
      "\u001b[38;5;238m  21\u001b[0m   \u001b[38;5;238m│\u001b[0m \u001b[38;5;231m  \u001b[0m\u001b[38;5;203mif\u001b[0m\u001b[38;5;231m \u001b[0m\u001b[38;5;231m(\u001b[0m\u001b[38;5;231mdp\u001b[0m\u001b[38;5;231m[\u001b[0m\u001b[38;5;231mi\u001b[0m\u001b[38;5;231m]\u001b[0m\u001b[38;5;231m[\u001b[0m\u001b[38;5;231mj\u001b[0m\u001b[38;5;231m]\u001b[0m\u001b[38;5;231m \u001b[0m\u001b[38;5;203m>=\u001b[0m\u001b[38;5;231m \u001b[0m\u001b[38;5;141m0\u001b[0m\u001b[38;5;231m)\u001b[0m\n",
      "\u001b[38;5;238m  22\u001b[0m   \u001b[38;5;238m│\u001b[0m \u001b[38;5;231m  \u001b[0m\u001b[38;5;231m{\u001b[0m\n",
      "\u001b[38;5;238m  23\u001b[0m   \u001b[38;5;238m│\u001b[0m \u001b[38;5;231m    \u001b[0m\u001b[38;5;203mreturn\u001b[0m\u001b[38;5;231m dp\u001b[0m\u001b[38;5;231m[\u001b[0m\u001b[38;5;231mi\u001b[0m\u001b[38;5;231m]\u001b[0m\u001b[38;5;231m[\u001b[0m\u001b[38;5;231mj\u001b[0m\u001b[38;5;231m]\u001b[0m\u001b[38;5;231m;\u001b[0m\n",
      "\u001b[38;5;238m  24\u001b[0m   \u001b[38;5;238m│\u001b[0m \u001b[38;5;231m  \u001b[0m\u001b[38;5;231m}\u001b[0m\n",
      "\u001b[38;5;238m  25\u001b[0m   \u001b[38;5;238m│\u001b[0m \u001b[38;5;231m  \u001b[0m\u001b[38;5;81mint\u001b[0m\u001b[38;5;231m res\u001b[0m\u001b[38;5;231m;\u001b[0m\n",
      "\u001b[38;5;238m  26\u001b[0m   \u001b[38;5;238m│\u001b[0m \n",
      "\u001b[38;5;238m  27\u001b[0m   \u001b[38;5;238m│\u001b[0m \u001b[38;5;231m  \u001b[0m\u001b[38;5;203mif\u001b[0m\u001b[38;5;231m \u001b[0m\u001b[38;5;231m(\u001b[0m\u001b[38;5;231mi\u001b[0m\u001b[38;5;203m==\u001b[0m\u001b[38;5;231mN\u001b[0m\u001b[38;5;231m)\u001b[0m\n",
      "\u001b[38;5;238m  28\u001b[0m   \u001b[38;5;238m│\u001b[0m \u001b[38;5;231m  \u001b[0m\u001b[38;5;231m{\u001b[0m\n",
      "\u001b[38;5;238m  29\u001b[0m   \u001b[38;5;238m│\u001b[0m \u001b[38;5;231m    \u001b[0m\u001b[38;5;242m//\u001b[0m\u001b[38;5;242m 使い切ったら0を返してStopIteration\u001b[0m\n",
      "\u001b[38;5;238m  30\u001b[0m   \u001b[38;5;238m│\u001b[0m \u001b[38;5;231m    res \u001b[0m\u001b[38;5;203m=\u001b[0m\u001b[38;5;231m \u001b[0m\u001b[38;5;141m0\u001b[0m\u001b[38;5;231m;\u001b[0m\n",
      "\u001b[38;5;238m  31\u001b[0m   \u001b[38;5;238m│\u001b[0m \u001b[38;5;231m  \u001b[0m\u001b[38;5;231m}\u001b[0m\n",
      "\u001b[38;5;238m  32\u001b[0m   \u001b[38;5;238m│\u001b[0m \u001b[38;5;231m  \u001b[0m\u001b[38;5;203melse\u001b[0m\u001b[38;5;231m \u001b[0m\u001b[38;5;203mif\u001b[0m\u001b[38;5;231m \u001b[0m\u001b[38;5;231m(\u001b[0m\u001b[38;5;231mj \u001b[0m\u001b[38;5;203m<\u001b[0m\u001b[38;5;231m w\u001b[0m\u001b[38;5;231m[\u001b[0m\u001b[38;5;231mi\u001b[0m\u001b[38;5;231m]\u001b[0m\u001b[38;5;231m)\u001b[0m\n",
      "\u001b[38;5;238m  33\u001b[0m   \u001b[38;5;238m│\u001b[0m \u001b[38;5;231m  \u001b[0m\u001b[38;5;231m{\u001b[0m\n",
      "\u001b[38;5;238m  34\u001b[0m   \u001b[38;5;238m│\u001b[0m \u001b[38;5;231m    \u001b[0m\u001b[38;5;242m//\u001b[0m\u001b[38;5;242m 使わない\u001b[0m\n",
      "\u001b[38;5;238m  35\u001b[0m   \u001b[38;5;238m│\u001b[0m \u001b[38;5;231m    res \u001b[0m\u001b[38;5;203m=\u001b[0m\u001b[38;5;231m \u001b[0m\u001b[38;5;231mrec\u001b[0m\u001b[38;5;231m(\u001b[0m\u001b[38;5;231mi \u001b[0m\u001b[38;5;203m+\u001b[0m\u001b[38;5;231m \u001b[0m\u001b[38;5;141m1\u001b[0m\u001b[38;5;231m,\u001b[0m\u001b[38;5;231m j\u001b[0m\u001b[38;5;231m)\u001b[0m\u001b[38;5;231m;\u001b[0m\n",
      "\u001b[38;5;238m  36\u001b[0m   \u001b[38;5;238m│\u001b[0m \u001b[38;5;231m  \u001b[0m\u001b[38;5;231m}\u001b[0m\n",
      "\u001b[38;5;238m  37\u001b[0m   \u001b[38;5;238m│\u001b[0m \u001b[38;5;231m  \u001b[0m\u001b[38;5;203melse\u001b[0m\n",
      "\u001b[38;5;238m  38\u001b[0m   \u001b[38;5;238m│\u001b[0m \u001b[38;5;231m  \u001b[0m\u001b[38;5;231m{\u001b[0m\n",
      "\u001b[38;5;238m  39\u001b[0m   \u001b[38;5;238m│\u001b[0m \u001b[38;5;231m    \u001b[0m\u001b[38;5;242m//\u001b[0m\u001b[38;5;242m 使うかもしれない\u001b[0m\n",
      "\u001b[38;5;238m  40\u001b[0m   \u001b[38;5;238m│\u001b[0m \u001b[38;5;231m    res \u001b[0m\u001b[38;5;203m=\u001b[0m\u001b[38;5;231m \u001b[0m\u001b[38;5;231mmax\u001b[0m\u001b[38;5;231m(\u001b[0m\u001b[38;5;231mrec\u001b[0m\u001b[38;5;231m(\u001b[0m\u001b[38;5;231mi \u001b[0m\u001b[38;5;203m+\u001b[0m\u001b[38;5;231m \u001b[0m\u001b[38;5;141m1\u001b[0m\u001b[38;5;231m,\u001b[0m\u001b[38;5;231m j\u001b[0m\u001b[38;5;231m)\u001b[0m\u001b[38;5;231m,\u001b[0m\u001b[38;5;231m \u001b[0m\u001b[38;5;231mrec\u001b[0m\u001b[38;5;231m(\u001b[0m\u001b[38;5;231mi \u001b[0m\u001b[38;5;203m+\u001b[0m\u001b[38;5;231m \u001b[0m\u001b[38;5;141m1\u001b[0m\u001b[38;5;231m,\u001b[0m\u001b[38;5;231m j \u001b[0m\u001b[38;5;203m-\u001b[0m\u001b[38;5;231m w\u001b[0m\u001b[38;5;231m[\u001b[0m\u001b[38;5;231mi\u001b[0m\u001b[38;5;231m]\u001b[0m\u001b[38;5;231m)\u001b[0m\u001b[38;5;231m \u001b[0m\u001b[38;5;203m+\u001b[0m\u001b[38;5;231m v\u001b[0m\u001b[38;5;231m[\u001b[0m\u001b[38;5;231mi\u001b[0m\u001b[38;5;231m]\u001b[0m\u001b[38;5;231m)\u001b[0m\u001b[38;5;231m;\u001b[0m\n",
      "\u001b[38;5;238m  41\u001b[0m   \u001b[38;5;238m│\u001b[0m \u001b[38;5;231m  \u001b[0m\u001b[38;5;231m}\u001b[0m\n",
      "\u001b[38;5;238m  42\u001b[0m   \u001b[38;5;238m│\u001b[0m \n",
      "\u001b[38;5;238m  43\u001b[0m   \u001b[38;5;238m│\u001b[0m \u001b[38;5;231m  \u001b[0m\u001b[38;5;203mreturn\u001b[0m\u001b[38;5;231m dp\u001b[0m\u001b[38;5;231m[\u001b[0m\u001b[38;5;231mi\u001b[0m\u001b[38;5;231m]\u001b[0m\u001b[38;5;231m[\u001b[0m\u001b[38;5;231mj\u001b[0m\u001b[38;5;231m]\u001b[0m\u001b[38;5;231m \u001b[0m\u001b[38;5;203m=\u001b[0m\u001b[38;5;231m res\u001b[0m\u001b[38;5;231m;\u001b[0m\n",
      "\u001b[38;5;238m  44\u001b[0m   \u001b[38;5;238m│\u001b[0m \u001b[38;5;231m}\u001b[0m\n",
      "\u001b[38;5;238m  45\u001b[0m   \u001b[38;5;238m│\u001b[0m \n",
      "\u001b[38;5;238m  46\u001b[0m   \u001b[38;5;238m│\u001b[0m \u001b[38;5;81mint\u001b[0m\u001b[38;5;231m \u001b[0m\u001b[38;5;149mmain\u001b[0m\u001b[38;5;231m(\u001b[0m\u001b[38;5;231m)\u001b[0m\n",
      "\u001b[38;5;238m  47\u001b[0m   \u001b[38;5;238m│\u001b[0m \u001b[38;5;231m{\u001b[0m\n",
      "\u001b[38;5;238m  48\u001b[0m   \u001b[38;5;238m│\u001b[0m \u001b[38;5;231m  cin \u001b[0m\u001b[38;5;203m>>\u001b[0m\u001b[38;5;231m N \u001b[0m\u001b[38;5;203m>>\u001b[0m\u001b[38;5;231m W\u001b[0m\u001b[38;5;231m;\u001b[0m\n",
      "\u001b[38;5;238m  49\u001b[0m   \u001b[38;5;238m│\u001b[0m \u001b[38;5;231m  \u001b[0m\u001b[38;5;231mrep\u001b[0m\u001b[38;5;231m(\u001b[0m\u001b[38;5;231mi\u001b[0m\u001b[38;5;231m,\u001b[0m\u001b[38;5;231mN\u001b[0m\u001b[38;5;231m)\u001b[0m\u001b[38;5;231m cin \u001b[0m\u001b[38;5;203m>>\u001b[0m\u001b[38;5;231m w\u001b[0m\u001b[38;5;231m[\u001b[0m\u001b[38;5;231mi\u001b[0m\u001b[38;5;231m]\u001b[0m\u001b[38;5;231m \u001b[0m\u001b[38;5;203m>>\u001b[0m\u001b[38;5;231m v\u001b[0m\u001b[38;5;231m[\u001b[0m\u001b[38;5;231mi\u001b[0m\u001b[38;5;231m]\u001b[0m\u001b[38;5;231m;\u001b[0m\n",
      "\u001b[38;5;238m  50\u001b[0m   \u001b[38;5;238m│\u001b[0m \n",
      "\u001b[38;5;238m  51\u001b[0m   \u001b[38;5;238m│\u001b[0m \u001b[38;5;231m  \u001b[0m\u001b[38;5;81mmemset\u001b[0m\u001b[38;5;231m(\u001b[0m\u001b[38;5;231mdp\u001b[0m\u001b[38;5;231m,\u001b[0m\u001b[38;5;231m \u001b[0m\u001b[38;5;203m-\u001b[0m\u001b[38;5;141m1\u001b[0m\u001b[38;5;231m,\u001b[0m\u001b[38;5;231m \u001b[0m\u001b[38;5;203msizeof\u001b[0m\u001b[38;5;231m(\u001b[0m\u001b[38;5;231mdp\u001b[0m\u001b[38;5;231m)\u001b[0m\u001b[38;5;231m)\u001b[0m\u001b[38;5;231m;\u001b[0m\n",
      "\u001b[38;5;238m  52\u001b[0m   \u001b[38;5;238m│\u001b[0m \u001b[38;5;231m  cout \u001b[0m\u001b[38;5;203m<<\u001b[0m\u001b[38;5;231m \u001b[0m\u001b[38;5;231mrec\u001b[0m\u001b[38;5;231m(\u001b[0m\u001b[38;5;141m0\u001b[0m\u001b[38;5;231m,\u001b[0m\u001b[38;5;231m W\u001b[0m\u001b[38;5;231m)\u001b[0m\u001b[38;5;231m \u001b[0m\u001b[38;5;203m<<\u001b[0m\u001b[38;5;231m endl\u001b[0m\u001b[38;5;231m;\u001b[0m\n",
      "\u001b[38;5;238m  53\u001b[0m   \u001b[38;5;238m│\u001b[0m \u001b[38;5;231m}\u001b[0m\n",
      "\u001b[38;5;238m───────┴────────────────────────────────────────────────────────────────────────\u001b[0m\n",
      "\u001b[32msample1: AC\u001b[0m\n",
      "\u001b[32mAC: 1/1\u001b[0m\n"
     ]
    }
   ],
   "source": [
    "matome(1, 1)"
   ]
  },
  {
   "cell_type": "code",
   "execution_count": null,
   "metadata": {},
   "outputs": [],
   "source": []
  }
 ]
}